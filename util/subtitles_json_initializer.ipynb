{
 "cells": [
  {
   "cell_type": "code",
   "execution_count": 3,
   "id": "17dd27f5",
   "metadata": {},
   "outputs": [],
   "source": [
    "import json\n",
    "from collections import OrderedDict\n",
    "import datetime\n",
    "\n",
    "start_date = datetime.date(2020, 1, 1)\n",
    "end_date = datetime.date(2020, 12, 31)\n",
    "delta = datetime.timedelta(days=1)\n",
    "\n",
    "json_obj = OrderedDict()\n",
    "\n",
    "while start_date <= end_date:\n",
    "    '''\n",
    "    {\n",
    "      \"01-01\" : {\n",
    "        \"month\" : 1,\n",
    "        \"day\" : 1,\n",
    "        \"subtitles\" : [\n",
    "          {\n",
    "            \"movie\" : \"\",\n",
    "            \"timecode\" : \"00:28:21,930\",\n",
    "        \"text\" : {\n",
    "              \"en\" : \"January 1st, the Big Bang.\",\n",
    "              \"zh-TW\" : \"1月1號 宇宙大爆炸\"\n",
    "        }\n",
    "          }\n",
    "          ]\n",
    "      }\n",
    "    }\n",
    "    '''\n",
    "    day_obj = OrderedDict()\n",
    "    day_obj['month'] = start_date.month\n",
    "    day_obj['day'] = start_date.day\n",
    "    sub_obj = OrderedDict()\n",
    "    sub_obj['movie'] = ''\n",
    "    sub_obj['timecode'] = '00:00:00.000'\n",
    "    sub_obj['text'] = OrderedDict()\n",
    "    sub_obj['text']['en'] = 'en...'\n",
    "    sub_obj['text']['zh-TW'] = 'zh-TW...'\n",
    "    day_obj['subtitles'] = [sub_obj]\n",
    "    \n",
    "    json_obj['%02d-%02d' % (start_date.month, start_date.day)] = day_obj\n",
    "    start_date += delta\n",
    "    \n",
    "with open('subtitles.json', 'w') as fout:\n",
    "    json.dump(json_obj, fout, indent=4)"
   ]
  },
  {
   "cell_type": "code",
   "execution_count": null,
   "id": "aed109ca",
   "metadata": {},
   "outputs": [],
   "source": []
  }
 ],
 "metadata": {
  "kernelspec": {
   "display_name": "Python 3 (ipykernel)",
   "language": "python",
   "name": "python3"
  },
  "language_info": {
   "codemirror_mode": {
    "name": "ipython",
    "version": 3
   },
   "file_extension": ".py",
   "mimetype": "text/x-python",
   "name": "python",
   "nbconvert_exporter": "python",
   "pygments_lexer": "ipython3",
   "version": "3.9.6"
  }
 },
 "nbformat": 4,
 "nbformat_minor": 5
}
